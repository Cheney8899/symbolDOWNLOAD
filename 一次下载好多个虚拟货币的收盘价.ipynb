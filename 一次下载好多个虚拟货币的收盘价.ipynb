{
 "cells": [
  {
   "cell_type": "code",
   "execution_count": 1,
   "id": "f37ff9ea",
   "metadata": {},
   "outputs": [
    {
     "name": "stdout",
     "output_type": "stream",
     "text": [
      "ARBUSD-1d.csv downloaded successfully!\n",
      "OGUSD-1d.csv downloaded successfully!\n",
      "GALAUSD-1d.csv downloaded successfully!\n",
      "BTCUSD-1d.csv downloaded successfully!\n",
      "VGXUSD-1d.csv downloaded successfully!\n",
      "FETUSD-1d.csv downloaded successfully!\n",
      "IDUSD-1d.csv downloaded successfully!\n",
      "RDNTUSD-1d.csv downloaded successfully!\n",
      "SUPERUSD-1d.csv downloaded successfully!\n",
      "ETHUSD-1d.csv downloaded successfully!\n",
      "DYDXUSD-1d.csv downloaded successfully!\n",
      "DOGEUSD-1d.csv downloaded successfully!\n",
      "OCEANUSD-1d.csv downloaded successfully!\n",
      "OPUSD-1d.csv downloaded successfully!\n",
      "2022-06-13 00:00:00 2023-04-20 08:29:30.193341\n",
      "All data downloaded from CoinMarketCap for {'SUPER', 'ARB', 'ID', 'OG', 'ETH', 'FET', 'OCEAN', 'DOGE', 'BTC', 'DYDX', 'OP', 'GALA', 'VGX', 'RDNT'}!\n"
     ]
    }
   ],
   "source": [
    "import requests\n",
    "import csv\n",
    "from datetime import datetime\n",
    "import time\n",
    "import concurrent.futures\n",
    "\n",
    "start_time = datetime.strptime(\"2022/6/13\", \"%Y/%m/%d\")\n",
    "end_time = datetime.now()\n",
    "\n",
    "symbols = {\"BTC\", \"ETH\",\"OP\",\"ID\",\"OG\",\"DOGE\",\"ARB\",\"DYDX\",\"RDNT\",\"FET\",\"OCEAN\",\"SUPER\",\"VGX\",\"GALA\"}\n",
    "convert = \"USD\"\n",
    "\n",
    "def download_data(symbol):\n",
    "    url = f\"https://web-api.coinmarketcap.com/v1/cryptocurrency/ohlcv/historical?symbol={symbol}&convert={convert}&time_start={int(start_time.timestamp())}&time_end={int(end_time.timestamp())}\"\n",
    "\n",
    "    try:\n",
    "        response = requests.get(url, timeout=10)\n",
    "        data = response.json()[\"data\"][\"quotes\"]\n",
    "        # process the data here\n",
    "    except requests.exceptions.Timeout:\n",
    "        print(f\"Timeout error occurred while retrieving data for {symbol}.\")\n",
    "    except KeyError:\n",
    "        print(f\"Error: No data found for {symbol} in the API response.\")\n",
    "    except Exception as e:\n",
    "        print(f\"Error: {str(e)}\")\n",
    "\n",
    "    csv_head = [\"candle_end_time\", \"open\", \"close\", \"high\", \"low\", \"volume\"]\n",
    "\n",
    "    with open(f\"{symbol}{convert}-1d.csv\", \"w\", newline=\"\") as csvfile:\n",
    "        writer = csv.writer(csvfile)\n",
    "        writer.writerow(csv_head)\n",
    "\n",
    "        for d in data:\n",
    "            date = datetime.strptime(d[\"time_close\"], \"%Y-%m-%dT%H:%M:%S.%fZ\").strftime(\"%Y-%m-%d\")\n",
    "            open_price = float(d[\"quote\"][convert][\"open\"])\n",
    "            close_price = float(d[\"quote\"][convert][\"close\"])\n",
    "            high_price = float(d[\"quote\"][convert][\"high\"])\n",
    "            low_price = float(d[\"quote\"][convert][\"low\"])\n",
    "            volume = float(d[\"quote\"][convert][\"volume\"])\n",
    "\n",
    "            row = [date, open_price, close_price, high_price, low_price, volume]\n",
    "            writer.writerow(row)\n",
    "\n",
    "    print(f\"{symbol}{convert}-1d.csv downloaded successfully!\")\n",
    "\n",
    "with concurrent.futures.ThreadPoolExecutor() as executor:\n",
    "    futures = []\n",
    "    for symbol in symbols:\n",
    "        futures.append(executor.submit(download_data, symbol))\n",
    "    for future in concurrent.futures.as_completed(futures):\n",
    "        try:\n",
    "            future.result()\n",
    "        except Exception as e:\n",
    "            print(f\"Error occurred: {str(e)}\")\n",
    "    \n",
    "    time.sleep(21) # add a 21-second delay before making the next request\n",
    "print(start_time,end_time)\n",
    "print(f\"All data downloaded from CoinMarketCap for {symbols}!\")\n"
   ]
  },
  {
   "cell_type": "code",
   "execution_count": null,
   "id": "80da57e5",
   "metadata": {},
   "outputs": [],
   "source": []
  }
 ],
 "metadata": {
  "kernelspec": {
   "display_name": "Python 3 (ipykernel)",
   "language": "python",
   "name": "python3"
  },
  "language_info": {
   "codemirror_mode": {
    "name": "ipython",
    "version": 3
   },
   "file_extension": ".py",
   "mimetype": "text/x-python",
   "name": "python",
   "nbconvert_exporter": "python",
   "pygments_lexer": "ipython3",
   "version": "3.9.13"
  }
 },
 "nbformat": 4,
 "nbformat_minor": 5
}
